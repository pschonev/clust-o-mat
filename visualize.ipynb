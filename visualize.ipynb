{
    "cells": [
        {
            "cell_type": "code",
            "execution_count": 7,
            "source": [
                "import sklearn\n",
                "from clustomat.clustomat import cluster, reduce_2d, plot, NoReduction"
            ],
            "outputs": [],
            "metadata": {}
        },
        {
            "cell_type": "code",
            "execution_count": 8,
            "source": [
                "df = cluster(red_model=NoReduction(),\n",
                "    cluster_model=sklearn.cluster.KMeans(n_clusters=4),\n",
                "    df=df)\n",
                "df = reduce_2d(reducer_2d=sklearn.decomposition.PCA(n_components=2), \n",
                "    df=df)\n",
                "plot(df=df, \n",
                "    voronoi=True)"
            ],
            "outputs": [
                {
                    "output_type": "error",
                    "ename": "AttributeError",
                    "evalue": "module 'sklearn' has no attribute 'cluster'",
                    "traceback": [
                        "\u001b[0;31m---------------------------------------------------------------------------\u001b[0m",
                        "\u001b[0;31mAttributeError\u001b[0m                            Traceback (most recent call last)",
                        "\u001b[0;32m/tmp/ipykernel_23376/2757412073.py\u001b[0m in \u001b[0;36m<module>\u001b[0;34m\u001b[0m\n\u001b[1;32m      1\u001b[0m df = cluster(red_model=NoReduction(),\n\u001b[0;32m----> 2\u001b[0;31m     \u001b[0mcluster_model\u001b[0m\u001b[0;34m=\u001b[0m\u001b[0msklearn\u001b[0m\u001b[0;34m.\u001b[0m\u001b[0mcluster\u001b[0m\u001b[0;34m.\u001b[0m\u001b[0mKMeans\u001b[0m\u001b[0;34m(\u001b[0m\u001b[0mn_clusters\u001b[0m\u001b[0;34m=\u001b[0m\u001b[0;36m4\u001b[0m\u001b[0;34m)\u001b[0m\u001b[0;34m,\u001b[0m\u001b[0;34m\u001b[0m\u001b[0;34m\u001b[0m\u001b[0m\n\u001b[0m\u001b[1;32m      3\u001b[0m     df=df)\n\u001b[1;32m      4\u001b[0m df = reduce_2d(reducer_2d=sklearn.decomposition.PCA(n_components=2), \n\u001b[1;32m      5\u001b[0m     df=df)\n",
                        "\u001b[0;31mAttributeError\u001b[0m: module 'sklearn' has no attribute 'cluster'"
                    ]
                }
            ],
            "metadata": {}
        }
    ],
    "metadata": {
        "orig_nbformat": 4,
        "language_info": {
            "name": "python",
            "version": "3.7.11",
            "mimetype": "text/x-python",
            "codemirror_mode": {
                "name": "ipython",
                "version": 3
            },
            "pygments_lexer": "ipython3",
            "nbconvert_exporter": "python",
            "file_extension": ".py"
        },
        "kernelspec": {
            "name": "python3",
            "display_name": "Python 3.7.11 64-bit ('clustomatvenv': venv)"
        },
        "interpreter": {
            "hash": "d9be3ae25c29cb74c892ad631fcc37aac4f6009a0b817677edbfca3b39dba57f"
        }
    },
    "nbformat": 4,
    "nbformat_minor": 2
}